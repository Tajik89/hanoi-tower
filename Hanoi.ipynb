{
 "cells": [
  {
   "cell_type": "code",
   "execution_count": 1,
   "id": "3fabe615-0099-4c61-8875-78ba92842c98",
   "metadata": {},
   "outputs": [],
   "source": [
    "def Hanoi(n, s, d, a) :\n",
    "    if n==1 :\n",
    "        print(f'Move disk 1 from sourc {s} to destination {d}')\n",
    "        return\n",
    "    Hanoi(n-1, s, a, d)\n",
    "    print(f'Move disk {n} from sourc {s} to destination {d}')\n",
    "    Hanoi(n-1, a, d, s)"
   ]
  },
  {
   "cell_type": "code",
   "execution_count": 7,
   "id": "74df7d39-e45d-4d4b-9095-c567b2ae6a74",
   "metadata": {},
   "outputs": [
    {
     "name": "stdout",
     "output_type": "stream",
     "text": [
      "Move disk 1 from sourc A to destination C\n",
      "Move disk 2 from sourc A to destination B\n",
      "Move disk 1 from sourc C to destination B\n",
      "Move disk 3 from sourc A to destination C\n",
      "Move disk 1 from sourc B to destination A\n",
      "Move disk 2 from sourc B to destination C\n",
      "Move disk 1 from sourc A to destination C\n"
     ]
    }
   ],
   "source": [
    "Hanoi(3, 'A', 'C', 'B')"
   ]
  },
  {
   "cell_type": "code",
   "execution_count": null,
   "id": "0f6cc03d-4e90-4dd4-9531-72e952e4064c",
   "metadata": {},
   "outputs": [],
   "source": [
    "# Made by TAKING Programmer (Taha | Tajik)\n",
    "# >-Web-Site-> tajik89.github.io\n",
    "# >-Git-hub-> Tajik89"
   ]
  }
 ],
 "metadata": {
  "kernelspec": {
   "display_name": "Python 3 (ipykernel)",
   "language": "python",
   "name": "python3"
  },
  "language_info": {
   "codemirror_mode": {
    "name": "ipython",
    "version": 3
   },
   "file_extension": ".py",
   "mimetype": "text/x-python",
   "name": "python",
   "nbconvert_exporter": "python",
   "pygments_lexer": "ipython3",
   "version": "3.11.1"
  }
 },
 "nbformat": 4,
 "nbformat_minor": 5
}
